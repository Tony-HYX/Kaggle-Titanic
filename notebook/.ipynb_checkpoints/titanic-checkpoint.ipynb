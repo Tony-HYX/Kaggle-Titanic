{
 "cells": [
  {
   "cell_type": "markdown",
   "metadata": {
    "_cell_guid": "e20b879d-7c1a-4dd0-8958-af560a7e2139",
    "_uuid": "0ef3fab5ba46af72025c2a913f4d228dc78bd558"
   },
   "source": [
    "  # <center>**从决策树到随机森林**\n",
    "  # <center>*From DecisionTree to RandomForest*\n",
    "    \n",
    "  * * *\n",
    "  \n",
    "  ## <center>组员：黄宇轩 陈震 张玉鹏 吴宇迪"
   ]
  },
  {
   "cell_type": "markdown",
   "metadata": {
    "_cell_guid": "a923494f-c885-4f16-bde9-9821f92ba417",
    "_uuid": "f44cdae5af9b7989be009d181619875e0a9b50a3"
   },
   "source": [
    "数据集\n",
    "=============\n",
    "\n",
    "* <font size=5 face=\"微软雅黑\">当年泰坦尼克号的沉没造成了很多人的死亡，其中比较重要的一个因素是救生艇不足 </font>\n",
    "\n",
    "\n",
    "* <font size=4 face=\"微软雅黑\">尽管是否能活下来有运气的成分，但有些人群的存活概率确实相对更高（比如女性，孩子）</font>\n",
    "\n",
    "* <font size=4 face=\"微软雅黑\">训练集给出一些乘客的个人信息以及存活状况，要根据它预测测试集里其他乘客的存活状况 </font>\n",
    "\n"
   ]
  },
  {
   "cell_type": "markdown",
   "metadata": {},
   "source": [
    "# 流程：\n",
    "1. 数据分析\n",
    "\n",
    "2. 预处理与特征提取和选择\n",
    "\n",
    "3. 分类器设计\n",
    "\n",
    "4. 分类预测"
   ]
  },
  {
   "cell_type": "code",
   "execution_count": 1,
   "metadata": {
    "_cell_guid": "b1076dfc-b9ad-4769-8c92-a6c4dae69d19",
    "_uuid": "8f2839f25d086af736a60e9eeb907d3b93b6e0e5"
   },
   "outputs": [],
   "source": [
    "import numpy as np  # linear algebra\n",
    "import pandas as pd  # data processing, CSV file I/O (e.g. pd.read_csv)\n",
    "from sklearn import preprocessing\n",
    "from sklearn.ensemble import RandomForestRegressor\n",
    "from sklearn.ensemble import RandomForestClassifier\n",
    "from sklearn.tree import DecisionTreeClassifier\n",
    "import seaborn as sns\n",
    "import operator\n",
    "import matplotlib.pyplot as plt "
   ]
  },
  {
   "cell_type": "markdown",
   "metadata": {
    "_cell_guid": "79c7e3d0-c299-4dcb-8224-4455121ee9b0",
    "_uuid": "d629ff2d2480ee46fbb7e2d37f6b5fab8052498a",
    "collapsed": true
   },
   "source": [
    "# 首先查看数据集基本情况"
   ]
  },
  {
   "cell_type": "code",
   "execution_count": 2,
   "metadata": {
    "_cell_guid": "4ab039b3-63c9-49b8-89b0-64dc551a5ced",
    "_uuid": "ab558e7f7a65d6c5aa6751b3caf322931ac4076c"
   },
   "outputs": [
    {
     "data": {
      "text/html": [
       "<div>\n",
       "<style scoped>\n",
       "    .dataframe tbody tr th:only-of-type {\n",
       "        vertical-align: middle;\n",
       "    }\n",
       "\n",
       "    .dataframe tbody tr th {\n",
       "        vertical-align: top;\n",
       "    }\n",
       "\n",
       "    .dataframe thead th {\n",
       "        text-align: right;\n",
       "    }\n",
       "</style>\n",
       "<table border=\"1\" class=\"dataframe\">\n",
       "  <thead>\n",
       "    <tr style=\"text-align: right;\">\n",
       "      <th></th>\n",
       "      <th>PassengerId</th>\n",
       "      <th>Survived</th>\n",
       "      <th>Pclass</th>\n",
       "      <th>Name</th>\n",
       "      <th>Sex</th>\n",
       "      <th>Age</th>\n",
       "      <th>SibSp</th>\n",
       "      <th>Parch</th>\n",
       "      <th>Ticket</th>\n",
       "      <th>Fare</th>\n",
       "      <th>Cabin</th>\n",
       "      <th>Embarked</th>\n",
       "    </tr>\n",
       "  </thead>\n",
       "  <tbody>\n",
       "    <tr>\n",
       "      <th>0</th>\n",
       "      <td>1</td>\n",
       "      <td>0</td>\n",
       "      <td>3</td>\n",
       "      <td>Braund, Mr. Owen Harris</td>\n",
       "      <td>male</td>\n",
       "      <td>22.0</td>\n",
       "      <td>1</td>\n",
       "      <td>0</td>\n",
       "      <td>A/5 21171</td>\n",
       "      <td>7.2500</td>\n",
       "      <td>NaN</td>\n",
       "      <td>S</td>\n",
       "    </tr>\n",
       "    <tr>\n",
       "      <th>1</th>\n",
       "      <td>2</td>\n",
       "      <td>1</td>\n",
       "      <td>1</td>\n",
       "      <td>Cumings, Mrs. John Bradley (Florence Briggs Th...</td>\n",
       "      <td>female</td>\n",
       "      <td>38.0</td>\n",
       "      <td>1</td>\n",
       "      <td>0</td>\n",
       "      <td>PC 17599</td>\n",
       "      <td>71.2833</td>\n",
       "      <td>C85</td>\n",
       "      <td>C</td>\n",
       "    </tr>\n",
       "    <tr>\n",
       "      <th>2</th>\n",
       "      <td>3</td>\n",
       "      <td>1</td>\n",
       "      <td>3</td>\n",
       "      <td>Heikkinen, Miss. Laina</td>\n",
       "      <td>female</td>\n",
       "      <td>26.0</td>\n",
       "      <td>0</td>\n",
       "      <td>0</td>\n",
       "      <td>STON/O2. 3101282</td>\n",
       "      <td>7.9250</td>\n",
       "      <td>NaN</td>\n",
       "      <td>S</td>\n",
       "    </tr>\n",
       "    <tr>\n",
       "      <th>3</th>\n",
       "      <td>4</td>\n",
       "      <td>1</td>\n",
       "      <td>1</td>\n",
       "      <td>Futrelle, Mrs. Jacques Heath (Lily May Peel)</td>\n",
       "      <td>female</td>\n",
       "      <td>35.0</td>\n",
       "      <td>1</td>\n",
       "      <td>0</td>\n",
       "      <td>113803</td>\n",
       "      <td>53.1000</td>\n",
       "      <td>C123</td>\n",
       "      <td>S</td>\n",
       "    </tr>\n",
       "    <tr>\n",
       "      <th>4</th>\n",
       "      <td>5</td>\n",
       "      <td>0</td>\n",
       "      <td>3</td>\n",
       "      <td>Allen, Mr. William Henry</td>\n",
       "      <td>male</td>\n",
       "      <td>35.0</td>\n",
       "      <td>0</td>\n",
       "      <td>0</td>\n",
       "      <td>373450</td>\n",
       "      <td>8.0500</td>\n",
       "      <td>NaN</td>\n",
       "      <td>S</td>\n",
       "    </tr>\n",
       "  </tbody>\n",
       "</table>\n",
       "</div>"
      ],
      "text/plain": [
       "   PassengerId  Survived  Pclass  \\\n",
       "0            1         0       3   \n",
       "1            2         1       1   \n",
       "2            3         1       3   \n",
       "3            4         1       1   \n",
       "4            5         0       3   \n",
       "\n",
       "                                                Name     Sex   Age  SibSp  \\\n",
       "0                            Braund, Mr. Owen Harris    male  22.0      1   \n",
       "1  Cumings, Mrs. John Bradley (Florence Briggs Th...  female  38.0      1   \n",
       "2                             Heikkinen, Miss. Laina  female  26.0      0   \n",
       "3       Futrelle, Mrs. Jacques Heath (Lily May Peel)  female  35.0      1   \n",
       "4                           Allen, Mr. William Henry    male  35.0      0   \n",
       "\n",
       "   Parch            Ticket     Fare Cabin Embarked  \n",
       "0      0         A/5 21171   7.2500   NaN        S  \n",
       "1      0          PC 17599  71.2833   C85        C  \n",
       "2      0  STON/O2. 3101282   7.9250   NaN        S  \n",
       "3      0            113803  53.1000  C123        S  \n",
       "4      0            373450   8.0500   NaN        S  "
      ]
     },
     "execution_count": 2,
     "metadata": {},
     "output_type": "execute_result"
    }
   ],
   "source": [
    "train_data = pd.read_csv(\"../input/train.csv\")\n",
    "test_data = pd.read_csv(\"../input/test.csv\")\n",
    "\n",
    "# 先保存test_data的PassengerId以输出\n",
    "test_Pid = test_data[\"PassengerId\"]\n",
    "\n",
    "train_data.head()\n",
    "\n"
   ]
  },
  {
   "cell_type": "markdown",
   "metadata": {},
   "source": [
    "## 发现 Age, Cabin 和 Embarked 列有空值需要处理"
   ]
  },
  {
   "cell_type": "code",
   "execution_count": 3,
   "metadata": {},
   "outputs": [
    {
     "name": "stdout",
     "output_type": "stream",
     "text": [
      "<class 'pandas.core.frame.DataFrame'>\n",
      "RangeIndex: 891 entries, 0 to 890\n",
      "Data columns (total 12 columns):\n",
      "PassengerId    891 non-null int64\n",
      "Survived       891 non-null int64\n",
      "Pclass         891 non-null int64\n",
      "Name           891 non-null object\n",
      "Sex            891 non-null object\n",
      "Age            714 non-null float64\n",
      "SibSp          891 non-null int64\n",
      "Parch          891 non-null int64\n",
      "Ticket         891 non-null object\n",
      "Fare           891 non-null float64\n",
      "Cabin          204 non-null object\n",
      "Embarked       889 non-null object\n",
      "dtypes: float64(2), int64(5), object(5)\n",
      "memory usage: 83.6+ KB\n"
     ]
    }
   ],
   "source": [
    "train_data.info()"
   ]
  },
  {
   "cell_type": "markdown",
   "metadata": {},
   "source": [
    "# Name\n",
    "# 名字看起来对是否生还没有作用，但是统计之后却发现名字越长获救几率越大\n",
    "# 同样发现名字里的称谓对是否获救也有影响\n",
    "# 提取出NameLength和Name_Title列\n",
    "# 由于这些属性之间不存在大小关系，因此最后进行独热编码，每个可能的属性取值设一列\n"
   ]
  },
  {
   "cell_type": "code",
   "execution_count": 4,
   "metadata": {
    "_cell_guid": "0a0b8e5d-c918-4f3f-a63c-24edec7fe0aa",
    "_uuid": "31855edb0de916ffce20c0b760af3b82fb85b912"
   },
   "outputs": [
    {
     "name": "stdout",
     "output_type": "stream",
     "text": [
      "NameLength\n",
      "(11.999, 19.0]    0.220588\n",
      "(19.0, 23.0]      0.301282\n",
      "(23.0, 27.0]      0.319797\n",
      "(27.0, 32.0]      0.442424\n",
      "(32.0, 82.0]      0.674556\n",
      "Name: Survived, dtype: float64\n",
      "Name_Title\n",
      "Capt.        0.000000\n",
      "Col.         0.500000\n",
      "Don.         0.000000\n",
      "Dr.          0.428571\n",
      "Jonkheer.    0.000000\n",
      "Lady.        1.000000\n",
      "Major.       0.500000\n",
      "Master.      0.575000\n",
      "Miss.        0.697802\n",
      "Mlle.        1.000000\n",
      "Mme.         1.000000\n",
      "Mr.          0.156673\n",
      "Mrs.         0.792000\n",
      "Ms.          1.000000\n",
      "Rev.         0.000000\n",
      "Sir.         1.000000\n",
      "the          1.000000\n",
      "Name: Survived, dtype: float64\n"
     ]
    }
   ],
   "source": [
    "\n",
    "def names(train, test):\n",
    "    for i in [train, test]:\n",
    "       i['NameLength'] = i['Name'].apply(lambda x: len(x))\n",
    "       i['Name_Title'] = i['Name'].apply(lambda x: x.split(',')[1]).apply(lambda x: x.split()[0])\n",
    "    print(train['Survived'].groupby(pd.qcut(train['NameLength'], 5)).mean())\n",
    "    print(train['Survived'].groupby(train['Name_Title']).mean())\n",
    "    good_cols = ['Name_Title' + '_' + i for i in train['Name_Title'].unique() if i in test['Name_Title'].unique()]\n",
    "    train = pd.concat((train, pd.get_dummies(train['Name_Title'], prefix='Name_Title')[good_cols]), axis=1)\n",
    "    test = pd.concat((test, pd.get_dummies(test['Name_Title'], prefix='Name_Title')[good_cols]), axis=1)\n",
    "    del train['Name_Title']\n",
    "    del test['Name_Title']\n",
    "    return train, test\n",
    "train_data, test_data = names(train_data, test_data)\n"
   ]
  },
  {
   "cell_type": "markdown",
   "metadata": {},
   "source": [
    "# 丢弃无用的 PassengerId Name Ticket列\n",
    "# 对Sex进行处理，male为1，female为0\n",
    "\n",
    "# 对Cabin进行处理，缺失值太多，有值则填1，没值则填0"
   ]
  },
  {
   "cell_type": "code",
   "execution_count": 5,
   "metadata": {
    "_cell_guid": "acc3f1c4-86a3-4d94-a741-0b6a2c809dc8",
    "_uuid": "6f1cd1a9e8dab4e8b9be97e70959797670005976"
   },
   "outputs": [
    {
     "name": "stdout",
     "output_type": "stream",
     "text": [
      "['male' 'female']\n"
     ]
    },
    {
     "data": {
      "text/plain": [
       "<matplotlib.axes._subplots.AxesSubplot at 0x29bfa417f98>"
      ]
     },
     "execution_count": 5,
     "metadata": {},
     "output_type": "execute_result"
    },
    {
     "data": {
      "image/png": "[encoded data removed]",
      "text/plain": [
       "<matplotlib.figure.Figure at 0x29be76e5a20>"
      ]
     },
     "metadata": {},
     "output_type": "display_data"
    }
   ],
   "source": [
    "# 丢弃无用的 PassengerId Name Ticket列\n",
    "train_data = train_data.drop([\"PassengerId\", \"Name\", \"Ticket\"], axis=1)\n",
    "test_data = test_data.drop([\"PassengerId\", \"Name\", \"Ticket\"], axis=1)\n",
    "\n",
    "# 对Sex进行处理，male为1，female为0\n",
    "print(train_data[\"Sex\"].unique())\n",
    "train_data.loc[train_data[\"Sex\"] == 'male', \"Sex\"] = 0  # 左边选行，右边选列\n",
    "train_data.loc[train_data[\"Sex\"] == 'female', \"Sex\"] = 1\n",
    "test_data.loc[test_data[\"Sex\"] == 'male', \"Sex\"] = 0\n",
    "test_data.loc[test_data[\"Sex\"] == 'female', \"Sex\"] = 1\n",
    "\n",
    "# 对Cabin进行处理，缺失值太多，有值则填1，没值则填0 \n",
    "train_data.loc[train_data['Cabin'].notnull(), 'Cabin'] = 1\n",
    "train_data.loc[train_data['Cabin'].isnull(), 'Cabin'] = 0\n",
    "test_data.loc[test_data['Cabin'].notnull(), 'Cabin'] = 1\n",
    "test_data.loc[test_data['Cabin'].isnull(), 'Cabin'] = 0\n",
    "sns.countplot(train_data['Cabin'], hue=train_data['Survived'])"
   ]
  },
  {
   "cell_type": "markdown",
   "metadata": {},
   "source": [
    "# 对Embarked进行处理，缺失值只有一个，直接填众数S"
   ]
  },
  {
   "cell_type": "code",
   "execution_count": 6,
   "metadata": {
    "_cell_guid": "7528db8d-f34a-4e8a-9178-700bc60aaa48",
    "_uuid": "4bcad0fef0c8ec4764f03884c56f44e34afce4f0"
   },
   "outputs": [
    {
     "name": "stdout",
     "output_type": "stream",
     "text": [
      "['S' 'C' 'Q' nan]\n"
     ]
    },
    {
     "data": {
      "image/png": "[encoded data removed]",
      "text/plain": [
       "<matplotlib.figure.Figure at 0x29be8445198>"
      ]
     },
     "metadata": {},
     "output_type": "display_data"
    }
   ],
   "source": [
    "# 对Embarked进行处理，缺失值直接填S\n",
    "train_data['Survived'].groupby(train_data['Embarked']).mean()\n",
    "sns.countplot(train_data['Embarked'], hue=train_data['Survived'])\n",
    "print(train_data[\"Embarked\"].unique())\n",
    "train_data[\"Embarked\"] = train_data[\"Embarked\"].fillna('S')\n",
    "train_data.loc[train_data[\"Embarked\"] == 'S', \"Embarked\"] = 0\n",
    "train_data.loc[train_data[\"Embarked\"] == 'C', \"Embarked\"] = 1\n",
    "train_data.loc[train_data[\"Embarked\"] == 'Q', \"Embarked\"] = 2\n",
    "test_data[\"Embarked\"] = test_data[\"Embarked\"].fillna('S')\n",
    "test_data.loc[test_data[\"Embarked\"] == 'S', \"Embarked\"] = 0\n",
    "test_data.loc[test_data[\"Embarked\"] == 'C', \"Embarked\"] = 1\n",
    "test_data.loc[test_data[\"Embarked\"] == 'Q', \"Embarked\"] = 2"
   ]
  },
  {
   "cell_type": "code",
   "execution_count": 7,
   "metadata": {
    "_cell_guid": "12e68cad-6bd7-479d-bc61-7a347d79af99",
    "_uuid": "8cce6976bbeea19578e272f116e0e7489dac1431"
   },
   "outputs": [],
   "source": [
    "# 对Age缺失值的填充，由于缺失值不太多，因此使用随机森林回归算法进行预测\n",
    "def setMissingAges(df):\n",
    "    age_df = df[['Age', 'Parch', 'SibSp', 'Pclass', 'Cabin']]\n",
    "    knownAge = age_df[df.Age.notnull()]\n",
    "    unknownAge = age_df[df.Age.isnull()]\n",
    "    y = knownAge.values[:, 0]\n",
    "    X = knownAge.values[:, 1:]\n",
    "    rfr = RandomForestRegressor(n_estimators=2000, n_jobs=-1)\n",
    "    # train the regressor\n",
    "    rfr.fit(X, y)\n",
    "    predictedAges = rfr.predict(unknownAge.values[:, 1:])\n",
    "    df.loc[df.Age.isnull(), \"Age\"] = predictedAges\n",
    "    return df\n",
    "\n",
    "test_data.loc[test_data['Fare'].isnull(), 'Fare'] = train_data['Fare'].mean()\n",
    "\n",
    "train_data['Survived'].groupby(train_data['Age'].isnull()).mean()\n",
    "train_data['Age_Null_Flag'] = train_data['Age'].apply(lambda x: 1 if pd.isnull(x) else 0)\n",
    "test_data['Age_Null_Flag'] = test_data['Age'].apply(lambda x: 1 if pd.isnull(x) else 0)\n",
    "\n",
    "train_data = setMissingAges(train_data)\n",
    "test_data = setMissingAges(test_data)"
   ]
  },
  {
   "cell_type": "markdown",
   "metadata": {},
   "source": [
    "# 经过分析，发现'SibSp'和'Parch'变量对是否获救影响不大，因此将两个弱变量加起来合并成一个'Fam_Size'的强变量"
   ]
  },
  {
   "cell_type": "code",
   "execution_count": 8,
   "metadata": {
    "_cell_guid": "71f3d659-64d4-4e5b-8408-b2cab654ec42",
    "_uuid": "795efe1f9e0a28025c9ff0bf160e301e6ec5b1a8"
   },
   "outputs": [
    {
     "data": {
      "text/html": [
       "<div>\n",
       "<style scoped>\n",
       "    .dataframe tbody tr th:only-of-type {\n",
       "        vertical-align: middle;\n",
       "    }\n",
       "\n",
       "    .dataframe tbody tr th {\n",
       "        vertical-align: top;\n",
       "    }\n",
       "\n",
       "    .dataframe thead th {\n",
       "        text-align: right;\n",
       "    }\n",
       "</style>\n",
       "<table border=\"1\" class=\"dataframe\">\n",
       "  <thead>\n",
       "    <tr style=\"text-align: right;\">\n",
       "      <th></th>\n",
       "      <th>Survived</th>\n",
       "      <th>Pclass</th>\n",
       "      <th>Sex</th>\n",
       "      <th>Age</th>\n",
       "      <th>Fare</th>\n",
       "      <th>Cabin</th>\n",
       "      <th>Embarked</th>\n",
       "      <th>NameLength</th>\n",
       "      <th>Name_Title_Mr.</th>\n",
       "      <th>Name_Title_Mrs.</th>\n",
       "      <th>Name_Title_Miss.</th>\n",
       "      <th>Name_Title_Master.</th>\n",
       "      <th>Name_Title_Rev.</th>\n",
       "      <th>Name_Title_Dr.</th>\n",
       "      <th>Name_Title_Ms.</th>\n",
       "      <th>Name_Title_Col.</th>\n",
       "      <th>Age_Null_Flag</th>\n",
       "      <th>Fam_Size</th>\n",
       "    </tr>\n",
       "  </thead>\n",
       "  <tbody>\n",
       "    <tr>\n",
       "      <th>0</th>\n",
       "      <td>0</td>\n",
       "      <td>3</td>\n",
       "      <td>0</td>\n",
       "      <td>22.0</td>\n",
       "      <td>7.2500</td>\n",
       "      <td>0</td>\n",
       "      <td>0</td>\n",
       "      <td>23</td>\n",
       "      <td>1</td>\n",
       "      <td>0</td>\n",
       "      <td>0</td>\n",
       "      <td>0</td>\n",
       "      <td>0</td>\n",
       "      <td>0</td>\n",
       "      <td>0</td>\n",
       "      <td>0</td>\n",
       "      <td>0</td>\n",
       "      <td>1</td>\n",
       "    </tr>\n",
       "    <tr>\n",
       "      <th>1</th>\n",
       "      <td>1</td>\n",
       "      <td>1</td>\n",
       "      <td>1</td>\n",
       "      <td>38.0</td>\n",
       "      <td>71.2833</td>\n",
       "      <td>1</td>\n",
       "      <td>1</td>\n",
       "      <td>51</td>\n",
       "      <td>0</td>\n",
       "      <td>1</td>\n",
       "      <td>0</td>\n",
       "      <td>0</td>\n",
       "      <td>0</td>\n",
       "      <td>0</td>\n",
       "      <td>0</td>\n",
       "      <td>0</td>\n",
       "      <td>0</td>\n",
       "      <td>1</td>\n",
       "    </tr>\n",
       "    <tr>\n",
       "      <th>2</th>\n",
       "      <td>1</td>\n",
       "      <td>3</td>\n",
       "      <td>1</td>\n",
       "      <td>26.0</td>\n",
       "      <td>7.9250</td>\n",
       "      <td>0</td>\n",
       "      <td>0</td>\n",
       "      <td>22</td>\n",
       "      <td>0</td>\n",
       "      <td>0</td>\n",
       "      <td>1</td>\n",
       "      <td>0</td>\n",
       "      <td>0</td>\n",
       "      <td>0</td>\n",
       "      <td>0</td>\n",
       "      <td>0</td>\n",
       "      <td>0</td>\n",
       "      <td>0</td>\n",
       "    </tr>\n",
       "    <tr>\n",
       "      <th>3</th>\n",
       "      <td>1</td>\n",
       "      <td>1</td>\n",
       "      <td>1</td>\n",
       "      <td>35.0</td>\n",
       "      <td>53.1000</td>\n",
       "      <td>1</td>\n",
       "      <td>0</td>\n",
       "      <td>44</td>\n",
       "      <td>0</td>\n",
       "      <td>1</td>\n",
       "      <td>0</td>\n",
       "      <td>0</td>\n",
       "      <td>0</td>\n",
       "      <td>0</td>\n",
       "      <td>0</td>\n",
       "      <td>0</td>\n",
       "      <td>0</td>\n",
       "      <td>1</td>\n",
       "    </tr>\n",
       "    <tr>\n",
       "      <th>4</th>\n",
       "      <td>0</td>\n",
       "      <td>3</td>\n",
       "      <td>0</td>\n",
       "      <td>35.0</td>\n",
       "      <td>8.0500</td>\n",
       "      <td>0</td>\n",
       "      <td>0</td>\n",
       "      <td>24</td>\n",
       "      <td>1</td>\n",
       "      <td>0</td>\n",
       "      <td>0</td>\n",
       "      <td>0</td>\n",
       "      <td>0</td>\n",
       "      <td>0</td>\n",
       "      <td>0</td>\n",
       "      <td>0</td>\n",
       "      <td>0</td>\n",
       "      <td>0</td>\n",
       "    </tr>\n",
       "  </tbody>\n",
       "</table>\n",
       "</div>"
      ],
      "text/plain": [
       "   Survived  Pclass  Sex   Age     Fare  Cabin  Embarked  NameLength  \\\n",
       "0         0       3    0  22.0   7.2500      0         0          23   \n",
       "1         1       1    1  38.0  71.2833      1         1          51   \n",
       "2         1       3    1  26.0   7.9250      0         0          22   \n",
       "3         1       1    1  35.0  53.1000      1         0          44   \n",
       "4         0       3    0  35.0   8.0500      0         0          24   \n",
       "\n",
       "   Name_Title_Mr.  Name_Title_Mrs.  Name_Title_Miss.  Name_Title_Master.  \\\n",
       "0               1                0                 0                   0   \n",
       "1               0                1                 0                   0   \n",
       "2               0                0                 1                   0   \n",
       "3               0                1                 0                   0   \n",
       "4               1                0                 0                   0   \n",
       "\n",
       "   Name_Title_Rev.  Name_Title_Dr.  Name_Title_Ms.  Name_Title_Col.  \\\n",
       "0                0               0               0                0   \n",
       "1                0               0               0                0   \n",
       "2                0               0               0                0   \n",
       "3                0               0               0                0   \n",
       "4                0               0               0                0   \n",
       "\n",
       "   Age_Null_Flag  Fam_Size  \n",
       "0              0         1  \n",
       "1              0         1  \n",
       "2              0         0  \n",
       "3              0         1  \n",
       "4              0         0  "
      ]
     },
     "execution_count": 8,
     "metadata": {},
     "output_type": "execute_result"
    }
   ],
   "source": [
    "def fam_size(train, test):\n",
    "    for i in [train, test]:\n",
    "        i['Fam_Size'] = np.where((i['SibSp'] + i['Parch']) == 0, 0,\n",
    "                                 np.where((i['SibSp'] + i['Parch']) <= 3, 1, 2))\n",
    "        del i['SibSp']\n",
    "        del i['Parch']\n",
    "    return train, test\n",
    "train_data, test_data = fam_size(train_data, test_data)\n",
    "train_data.head()"
   ]
  },
  {
   "cell_type": "markdown",
   "metadata": {
    "_cell_guid": "9272d7df-3904-4dab-a3b0-b3d8ecb8fbb3",
    "_uuid": "614d7fffa257a4b2da211856ca572b960b14df96"
   },
   "source": [
    "# **预处理结束 以下是决策树部分**"
   ]
  },
  {
   "cell_type": "code",
   "execution_count": 9,
   "metadata": {
    "_cell_guid": "21909725-0040-4f24-a8cf-1d86ae426392",
    "_uuid": "1ba6049ae40f0ad1d4a26de2d65373da09cc2ae6"
   },
   "outputs": [],
   "source": [
    "class Node(object):\n",
    "    cnt = 0\n",
    "    children = {}\n",
    "    attr = \"\"\n",
    "    attr_value = -1\n",
    "    cate = 2  # 2 is invalid\n",
    "\n",
    "    def __init__(self):\n",
    "        self.cnt = 0\n",
    "        self.children = {}\n",
    "        self.attr = \"\"\n",
    "        self.attr_value = -1\n",
    "        self.cate = 2\n",
    "\n",
    "\n",
    "class DecisionTree(object):\n",
    "    root = Node()\n",
    "    values = []\n",
    "\n",
    "    def __init__(self):\n",
    "        self.root = Node()\n",
    "        self.values = []\n",
    "\n",
    "    def fit(self, x_train, y_train, splitter=\"random\", max_depth=None, min_samples_split=2):\n",
    "        self.values = valueListGen(x_train)\n",
    "        self.root = treeGen(x_train, y_train, self.values, 0, splitter, max_depth, min_samples_split)\n",
    "\n",
    "    def predict_one(self, row):\n",
    "        cur = self.root\n",
    "        while cur.cnt != 0:\n",
    "            temp = row[cur.attr]\n",
    "            if temp == cur.attr_value:\n",
    "                cur = cur.children[temp]\n",
    "            else:\n",
    "                cur = cur.children[-1]\n",
    "        return cur.cate\n",
    "\n",
    "    def predict(self, x_test):\n",
    "        result = []\n",
    "        for index, row in x_test.iterrows():\n",
    "            cate = self.predict_one(row)\n",
    "            result.append(cate)\n",
    "        return result\n",
    "\n",
    "\n",
    "def gini(y_train):\n",
    "    cate_cnt = {}\n",
    "    for item in y_train:\n",
    "        if item not in cate_cnt.keys():\n",
    "            cate_cnt[item] = 1.0\n",
    "        else:\n",
    "            cate_cnt[item] += 1\n",
    "    sum_cnt = y_train.shape[0]\n",
    "    result = 1.0\n",
    "    for key, value in cate_cnt.items():\n",
    "        p = value / sum_cnt\n",
    "        result -= p * p\n",
    "    return result\n",
    "\n",
    "\n",
    "def splitDataSet(x_train, y_train, i, value, flag):  # flag用于区分，是切分出属性值==value还是属性值!=value的子集\n",
    "    temp = pd.concat([x_train, y_train], axis=1)\n",
    "    if flag:\n",
    "        temp = temp[temp[x_train.columns[i]] == value]\n",
    "    else:\n",
    "        temp = temp[temp[x_train.columns[i]] != value]\n",
    "    temp = temp.drop(x_train.columns[i], axis=1)\n",
    "    name = temp.columns[temp.shape[1] - 1]  # 获取最后一列的名字\n",
    "    retx = temp.drop(name, axis=1)\n",
    "    rety = temp[name]\n",
    "    return retx, rety\n",
    "\n",
    "\n",
    "def chooseCutpoint(x_train, y_train, i):\n",
    "    value_list = [row[i] for index, row in x_train.iterrows()]\n",
    "\n",
    "    value_list = set(value_list)\n",
    "    best_gini_feature = 100\n",
    "    gini_sum_feature = 0.0\n",
    "    cutpoint = 0\n",
    "\n",
    "    for value in value_list:\n",
    "        gini_sum_feature = 0.0\n",
    "        x, y = splitDataSet(x_train, y_train, i, value, True)\n",
    "        g = gini(y)  # 左子节点的基尼系数\n",
    "        gini_sum_feature += g * float(x.shape[0]) / x_train.shape[0]\n",
    "        x, y = splitDataSet(x_train, y_train, i, value, False)\n",
    "        g = gini(y)  # 右子节点的基尼系数\n",
    "        gini_sum_feature += g * float(x.shape[0]) / x_train.shape[0]\n",
    "        # 计算出按当前value作为切分点的时候，基尼系数\n",
    "        if gini_sum_feature < best_gini_feature:\n",
    "            best_gini_feature = gini_sum_feature\n",
    "            cutpoint = value\n",
    "\n",
    "    return best_gini_feature, cutpoint\n",
    "\n",
    "\n",
    "def chooseFeature(x_train, y_train, splitter):\n",
    "    feature_cnt = x_train.shape[1]\n",
    "    best_gini = 100  # 足够大了\n",
    "    best_loc = -1\n",
    "    best_cut = -1\n",
    "    ran = set(range(feature_cnt))\n",
    "    if splitter == \"random\":  # 随机剔除掉最多一半的属性\n",
    "        arr = np.random.randint(0, feature_cnt, int(feature_cnt / 2))\n",
    "        arr = set(arr)\n",
    "        ran = ran - arr\n",
    "\n",
    "    for i in ran:  # 对于选定的属性\n",
    "        gini_sum, cutpoint = chooseCutpoint(x_train, y_train, i)  # 计算每个属性的最佳切分点以及最佳切分情况下的基尼系数\n",
    "        if gini_sum < best_gini:\n",
    "            best_gini = gini_sum\n",
    "            best_loc = i\n",
    "            best_cut = cutpoint\n",
    "    return best_loc, best_cut\n",
    "\n",
    "\n",
    "def vote(y_train):\n",
    "    cate_cnt = {}\n",
    "    for item in y_train:\n",
    "        if item not in cate_cnt.keys():\n",
    "            cate_cnt[item] = 1.0\n",
    "        else:\n",
    "            cate_cnt[item] += 1\n",
    "    sorted_cnt = sorted(cate_cnt.items(), key=operator.itemgetter(1), reverse=True)\n",
    "    return sorted_cnt[0][0]\n",
    "\n",
    "\n",
    "def treeGen(x_train, y_train, values, cur_depth, splitter=\"best\", max_depth=None, min_samples_split=2):\n",
    "    attributes = x_train.columns\n",
    "    cur = Node()\n",
    "    # 类别完全相同，停止划分\n",
    "    if y_train.value_counts().shape[0] == 1:\n",
    "        cur.cate = y_train.iloc[0]\n",
    "        cur.cnt = 0\n",
    "        return cur\n",
    "\n",
    "    flag = True\n",
    "    for attr in attributes:\n",
    "        if x_train[attr].value_counts().shape[0] != 1:\n",
    "            flag = False\n",
    "            break\n",
    "    # 属性集为空或在所有属性上的值都相同或深度达到了最大深度\n",
    "    temp = set(attributes)\n",
    "    # print(len(temp))\n",
    "    if len(temp) == 0 or flag or (max_depth is not None and cur_depth >= max_depth):\n",
    "        cur.cate = vote(y_train)\n",
    "        cur.cnt = 0\n",
    "        return cur\n",
    "\n",
    "    # 找出最佳属性\n",
    "    best_loc, value = chooseFeature(x_train, y_train, splitter)\n",
    "    cur.attr = attributes[best_loc]\n",
    "    cur.attr_value = value\n",
    "\n",
    "    x, y = splitDataSet(x_train, y_train, best_loc, value, True)\n",
    "    if x.shape[0] <= min_samples_split:  # 如果样本数太少则不继续划分\n",
    "        child = Node()\n",
    "        child.cate = vote(y_train)\n",
    "        child.cnt = 0\n",
    "        cur.cnt += 1\n",
    "        cur.children[value] = child\n",
    "    else:\n",
    "        child = treeGen(x, y, values, cur_depth + 1, splitter, max_depth)\n",
    "        cur.cnt += 1\n",
    "        cur.children[value] = child\n",
    "\n",
    "    x, y = splitDataSet(x_train, y_train, best_loc, value, False)\n",
    "    if x.shape[0] <= min_samples_split:  # 如果样本数太少则不继续划分\n",
    "        child = Node()\n",
    "        child.cate = vote(y_train)\n",
    "        child.cnt = 0\n",
    "        cur.cnt += 1\n",
    "        cur.children[-1] = child\n",
    "    else:\n",
    "        child = treeGen(x, y, values, cur_depth + 1, splitter, max_depth)\n",
    "        cur.cnt += 1\n",
    "        cur.children[-1] = child\n",
    "\n",
    "    return cur\n",
    "\n",
    "\n",
    "def valueListGen(x_train):\n",
    "    values = {}\n",
    "    for i in range(x_train.shape[1]):\n",
    "        value_list = [row[i] for index, row in x_train.iterrows()]\n",
    "        value_list = set(value_list)\n",
    "        values[x_train.columns[i]] = value_list\n",
    "    return values\n"
   ]
  },
  {
   "cell_type": "markdown",
   "metadata": {
    "_cell_guid": "2490e21e-87ff-410a-8d5a-e451f6c51809",
    "_uuid": "0218cfa42720af0f1cdb385b2e9374afd963cbb4"
   },
   "source": [
    "# **这里对决策树测试一下 各个参数说明 图表等等**"
   ]
  },
  {
   "cell_type": "markdown",
   "metadata": {
    "_cell_guid": "b2928ea1-e713-4d1a-a39d-e924c149c67e",
    "_uuid": "e071026fe1da6389732f5a6dc074e122139f65f6"
   },
   "source": [
    "# **以下是随机森林**"
   ]
  },
  {
   "cell_type": "code",
   "execution_count": 10,
   "metadata": {
    "_cell_guid": "259fef14-f31d-4246-ae0d-0ac0878b7ba1",
    "_uuid": "2c809a46c6f124371eae764d4f6dea54e85776e8"
   },
   "outputs": [],
   "source": [
    "def bootstrap(data_X, data_y):\n",
    "    \"\"\"不放回选取n个（n取样本个数）作为新样本返回\"\"\"\n",
    "    n = len(data_X)\n",
    "    idx = np.random.randint(n, size=n)  # 产生0到n-1的随机列表\n",
    "    sample_X = data_X.iloc[idx]\n",
    "    sample_y = data_y[idx]\n",
    "    return sample_X, sample_y\n",
    "\n",
    "\n",
    "class MyRandomForestClassifier:\n",
    "    def __init__(self, n_estimators=10, oob_score=False):\n",
    "        self.n_estimators = n_estimators  # integer 森林里树的个数\n",
    "        self.oob_score = oob_score  # bool 是否用袋外样本来估计精度\n",
    "        self.trees = []  # 决策树集合\n",
    "\n",
    "    def fit(self, X, y):\n",
    "        \"\"\"根据训练集(X, y)建随机森林\"\"\"\n",
    "        # 先随机有放回的抽样，构造得到n_estimators颗树\n",
    "        for i in range(self.n_estimators):\n",
    "            (subsampleX, subsample_y) = bootstrap(X, y)\n",
    "            # (subsampleX, subsample_y) = (X, y)\n",
    "            #tree = DecisionTree()\n",
    "            #tree.fit(subsampleX, subsample_y, splitter=\"random\", min_samples_split=10)\n",
    "            tree = DecisionTreeClassifier(splitter=\"random\", min_samples_split=10, min_samples_leaf=1,\n",
    "                                         max_features='auto')\n",
    "            tree.fit(subsampleX, subsample_y)\n",
    "            self.trees.append(tree)\n",
    "\n",
    "    def predict(self, X):\n",
    "        \"\"\"预测X属于哪类\"\"\"\n",
    "        cnt = np.zeros(len(X), dtype=np.int32)\n",
    "        for tree in self.trees:\n",
    "            y = np.array(tree.predict(X))\n",
    "            cnt = np.add(cnt, y)\n",
    "        i = 0\n",
    "        while i < len(cnt):\n",
    "            if cnt[i] > self.n_estimators // 2:\n",
    "                cnt[i] = 1\n",
    "            else:\n",
    "                cnt[i] = 0\n",
    "            i = i + 1\n",
    "        return cnt\n"
   ]
  },
  {
   "cell_type": "markdown",
   "metadata": {
    "_cell_guid": "9b77c877-e773-499b-b5db-c46f306b14c4",
    "_uuid": "bf49fa46c73b160e74b294027755516b4eda5cb0"
   },
   "source": [
    "# **以下用随机森林进行预测**"
   ]
  },
  {
   "cell_type": "code",
   "execution_count": 11,
   "metadata": {
    "_cell_guid": "012d088e-5709-43f4-b597-b00845e1998a",
    "_uuid": "2bc6c2fc0ef2e8d60d8e5f830c52cd48ec2eb829"
   },
   "outputs": [],
   "source": [
    "X_train = train_data.drop(\"Survived\", axis=1)\n",
    "Y_train = train_data[\"Survived\"]\n",
    "\n",
    "random_forest = MyRandomForestClassifier(n_estimators=700)\n",
    "random_forest.fit(X_train, Y_train)\n",
    "Y_pred = random_forest.predict(test_data)\n",
    "\n",
    "submission = pd.DataFrame({\n",
    "        \"PassengerId\": test_Pid,#test_data[\"PassengerId\"],\n",
    "        \"Survived\": Y_pred\n",
    "    })\n",
    "submission.to_csv('titanic.csv', index=False)"
   ]
  },
  {
   "cell_type": "markdown",
   "metadata": {
    "_cell_guid": "a4c94d4a-e677-40e7-8524-dc46c3ba59a1",
    "_uuid": "3cdc16cf10f0c320c85722fef1b2864f7db7f282"
   },
   "source": []
  },
  {
   "cell_type": "markdown",
   "metadata": {
    "_cell_guid": "327b93be-c0bc-4930-8a64-3fb352f8f1f0",
    "_uuid": "a5f1c5a009638dd7a47f54f1e2fb4cd47c88c552"
   },
   "source": []
  }
 ],
 "metadata": {
  "kernelspec": {
   "display_name": "Python 3",
   "language": "python",
   "name": "python3"
  },
  "language_info": {
   "codemirror_mode": {
    "name": "ipython",
    "version": 3
   },
   "file_extension": ".py",
   "mimetype": "text/x-python",
   "name": "python",
   "nbconvert_exporter": "python",
   "pygments_lexer": "ipython3",
   "version": "3.6.2"
  }
 },
 "nbformat": 4,
 "nbformat_minor": 1
}
