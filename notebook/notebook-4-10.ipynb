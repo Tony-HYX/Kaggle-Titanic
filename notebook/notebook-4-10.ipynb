{
 "cells": [
  {
   "cell_type": "markdown",
   "metadata": {
    "_cell_guid": "e20b879d-7c1a-4dd0-8958-af560a7e2139",
    "_uuid": "0ef3fab5ba46af72025c2a913f4d228dc78bd558"
   },
   "source": [
    "  # <center>**从决策树到随机森林**\n",
    "  ## <center>*From DecisionTree to RandomForest*\n",
    "    \n",
    "  * * *\n",
    "  \n",
    "  ## <center>组员：黄宇轩 陈震 张玉鹏 吴宇迪"
   ]
  },
  {
   "cell_type": "markdown",
   "metadata": {
    "_cell_guid": "a923494f-c885-4f16-bde9-9821f92ba417",
    "_uuid": "f44cdae5af9b7989be009d181619875e0a9b50a3"
   },
   "source": [
    "<center> **数据集介绍**\n",
    "=============\n",
    "\n",
    "* <font size=4 face=\"微软雅黑\"> 当年泰坦尼克号的沉没造成了很多人的死亡，其中比较重要的一个因素是救生艇不足 </font>\n",
    "\n",
    "\n",
    "* <font size=4 face=\"微软雅黑\">尽管是否能活下来有运气的成分，但有些人群的存活概率确实相对更高（比如女性，孩子）</font>\n",
    "\n",
    "\n",
    "* <font size=4 face=\"微软雅黑\">训练集**给出一些乘客的个人信息以及存活状况**，要根据它**预测测试集里其他乘客的存活状况** </font>\n",
    "\n"
   ]
  },
  {
   "cell_type": "markdown",
   "metadata": {
    "_uuid": "8c9777d3005c7f72cf03619dd2d99f0b41cf077f"
   },
   "source": [
    "    \n",
    "# **流程**：\n",
    "\n",
    "## <font size=4>1. 数据分析 </font>\n",
    "\n",
    "\n",
    "## <font size=4>2. 预处理与特征提取和选择 </font>\n",
    "\n",
    "\n",
    "## <font size=4>3. 分类器设计（决策树和随机森林） </font>\n",
    "\n",
    "\n",
    "## <font size=4>4. 分类预测 </font>\n",
    "\n"
   ]
  },
  {
   "cell_type": "code",
   "execution_count": 1,
   "metadata": {
    "_cell_guid": "b1076dfc-b9ad-4769-8c92-a6c4dae69d19",
    "_uuid": "8f2839f25d086af736a60e9eeb907d3b93b6e0e5"
   },
   "outputs": [],
   "source": [
    "import numpy as np  # linear algebra\n",
    "import pandas as pd  # data processing, CSV file I/O (e.g. pd.read_csv)\n",
    "from sklearn import preprocessing\n",
    "from sklearn.ensemble import RandomForestRegressor\n",
    "from sklearn.ensemble import RandomForestClassifier\n",
    "from sklearn.tree import DecisionTreeClassifier\n",
    "import seaborn as sns\n",
    "import operator\n",
    "import matplotlib.pyplot as plt "
   ]
  },
  {
   "cell_type": "markdown",
   "metadata": {
    "_cell_guid": "79c7e3d0-c299-4dcb-8224-4455121ee9b0",
    "_uuid": "d629ff2d2480ee46fbb7e2d37f6b5fab8052498a",
    "collapsed": true
   },
   "source": [
    "# **查看数据集基本情况**"
   ]
  },
  {
   "cell_type": "code",
   "execution_count": 2,
   "metadata": {
    "_cell_guid": "4ab039b3-63c9-49b8-89b0-64dc551a5ced",
    "_uuid": "ab558e7f7a65d6c5aa6751b3caf322931ac4076c"
   },
   "outputs": [
    {
     "data": {
      "text/html": [
       "<div>\n",
       "<style scoped>\n",
       "    .dataframe tbody tr th:only-of-type {\n",
       "        vertical-align: middle;\n",
       "    }\n",
       "\n",
       "    .dataframe tbody tr th {\n",
       "        vertical-align: top;\n",
       "    }\n",
       "\n",
       "    .dataframe thead th {\n",
       "        text-align: right;\n",
       "    }\n",
       "</style>\n",
       "<table border=\"1\" class=\"dataframe\">\n",
       "  <thead>\n",
       "    <tr style=\"text-align: right;\">\n",
       "      <th></th>\n",
       "      <th>PassengerId</th>\n",
       "      <th>Survived</th>\n",
       "      <th>Pclass</th>\n",
       "      <th>Name</th>\n",
       "      <th>Sex</th>\n",
       "      <th>Age</th>\n",
       "      <th>SibSp</th>\n",
       "      <th>Parch</th>\n",
       "      <th>Ticket</th>\n",
       "      <th>Fare</th>\n",
       "      <th>Cabin</th>\n",
       "      <th>Embarked</th>\n",
       "    </tr>\n",
       "  </thead>\n",
       "  <tbody>\n",
       "    <tr>\n",
       "      <th>0</th>\n",
       "      <td>1</td>\n",
       "      <td>0</td>\n",
       "      <td>3</td>\n",
       "      <td>Braund, Mr. Owen Harris</td>\n",
       "      <td>male</td>\n",
       "      <td>22.0</td>\n",
       "      <td>1</td>\n",
       "      <td>0</td>\n",
       "      <td>A/5 21171</td>\n",
       "      <td>7.2500</td>\n",
       "      <td>NaN</td>\n",
       "      <td>S</td>\n",
       "    </tr>\n",
       "    <tr>\n",
       "      <th>1</th>\n",
       "      <td>2</td>\n",
       "      <td>1</td>\n",
       "      <td>1</td>\n",
       "      <td>Cumings, Mrs. John Bradley (Florence Briggs Th...</td>\n",
       "      <td>female</td>\n",
       "      <td>38.0</td>\n",
       "      <td>1</td>\n",
       "      <td>0</td>\n",
       "      <td>PC 17599</td>\n",
       "      <td>71.2833</td>\n",
       "      <td>C85</td>\n",
       "      <td>C</td>\n",
       "    </tr>\n",
       "    <tr>\n",
       "      <th>2</th>\n",
       "      <td>3</td>\n",
       "      <td>1</td>\n",
       "      <td>3</td>\n",
       "      <td>Heikkinen, Miss. Laina</td>\n",
       "      <td>female</td>\n",
       "      <td>26.0</td>\n",
       "      <td>0</td>\n",
       "      <td>0</td>\n",
       "      <td>STON/O2. 3101282</td>\n",
       "      <td>7.9250</td>\n",
       "      <td>NaN</td>\n",
       "      <td>S</td>\n",
       "    </tr>\n",
       "    <tr>\n",
       "      <th>3</th>\n",
       "      <td>4</td>\n",
       "      <td>1</td>\n",
       "      <td>1</td>\n",
       "      <td>Futrelle, Mrs. Jacques Heath (Lily May Peel)</td>\n",
       "      <td>female</td>\n",
       "      <td>35.0</td>\n",
       "      <td>1</td>\n",
       "      <td>0</td>\n",
       "      <td>113803</td>\n",
       "      <td>53.1000</td>\n",
       "      <td>C123</td>\n",
       "      <td>S</td>\n",
       "    </tr>\n",
       "    <tr>\n",
       "      <th>4</th>\n",
       "      <td>5</td>\n",
       "      <td>0</td>\n",
       "      <td>3</td>\n",
       "      <td>Allen, Mr. William Henry</td>\n",
       "      <td>male</td>\n",
       "      <td>35.0</td>\n",
       "      <td>0</td>\n",
       "      <td>0</td>\n",
       "      <td>373450</td>\n",
       "      <td>8.0500</td>\n",
       "      <td>NaN</td>\n",
       "      <td>S</td>\n",
       "    </tr>\n",
       "  </tbody>\n",
       "</table>\n",
       "</div>"
      ],
      "text/plain": [
       "   PassengerId  Survived  Pclass  \\\n",
       "0            1         0       3   \n",
       "1            2         1       1   \n",
       "2            3         1       3   \n",
       "3            4         1       1   \n",
       "4            5         0       3   \n",
       "\n",
       "                                                Name     Sex   Age  SibSp  \\\n",
       "0                            Braund, Mr. Owen Harris    male  22.0      1   \n",
       "1  Cumings, Mrs. John Bradley (Florence Briggs Th...  female  38.0      1   \n",
       "2                             Heikkinen, Miss. Laina  female  26.0      0   \n",
       "3       Futrelle, Mrs. Jacques Heath (Lily May Peel)  female  35.0      1   \n",
       "4                           Allen, Mr. William Henry    male  35.0      0   \n",
       "\n",
       "   Parch            Ticket     Fare Cabin Embarked  \n",
       "0      0         A/5 21171   7.2500   NaN        S  \n",
       "1      0          PC 17599  71.2833   C85        C  \n",
       "2      0  STON/O2. 3101282   7.9250   NaN        S  \n",
       "3      0            113803  53.1000  C123        S  \n",
       "4      0            373450   8.0500   NaN        S  "
      ]
     },
     "execution_count": 2,
     "metadata": {},
     "output_type": "execute_result"
    }
   ],
   "source": [
    "train_data = pd.read_csv(\"../input/train.csv\")\n",
    "test_data = pd.read_csv(\"../input/test.csv\")\n",
    "\n",
    "# 先保存test_data的PassengerId以输出\n",
    "test_Pid = test_data[\"PassengerId\"]\n",
    "\n",
    "train_data.head()\n",
    "\n"
   ]
  },
  {
   "cell_type": "markdown",
   "metadata": {
    "_uuid": "0ef25a4fe97b47aa85b4d9b7ba758c45dcfc5f68"
   },
   "source": [
    "\n",
    "# **数据集的特点：**\n",
    "<font size=4 face=\"微软雅黑\"> 1. 数据集比较小，训练集**891**个数据，测试集**418**个数据\n",
    "\n",
    "<font size=4 face=\"微软雅黑\"> 2. *Age*, *Cabin* 和 *Embarked* 列有不少空值需要处理"
   ]
  },
  {
   "cell_type": "code",
   "execution_count": 3,
   "metadata": {
    "_uuid": "0880f4947496fed192a8bfce4f1201620c519da1"
   },
   "outputs": [
    {
     "name": "stdout",
     "output_type": "stream",
     "text": [
      "<class 'pandas.core.frame.DataFrame'>\n",
      "RangeIndex: 891 entries, 0 to 890\n",
      "Data columns (total 12 columns):\n",
      "PassengerId    891 non-null int64\n",
      "Survived       891 non-null int64\n",
      "Pclass         891 non-null int64\n",
      "Name           891 non-null object\n",
      "Sex            891 non-null object\n",
      "Age            714 non-null float64\n",
      "SibSp          891 non-null int64\n",
      "Parch          891 non-null int64\n",
      "Ticket         891 non-null object\n",
      "Fare           891 non-null float64\n",
      "Cabin          204 non-null object\n",
      "Embarked       889 non-null object\n",
      "dtypes: float64(2), int64(5), object(5)\n",
      "memory usage: 83.6+ KB\n"
     ]
    }
   ],
   "source": [
    "train_data.info()"
   ]
  },
  {
   "cell_type": "markdown",
   "metadata": {
    "_uuid": "fe7ff6e74484da7c5e641f08d38561c377f1b71e"
   },
   "source": [
    "# *Name*\n",
    "\n",
    "* <font size=4  face=\"微软雅黑\"> 名字看起来对是否生还没有作用，但是统计之后却发现**名字越长获救几率越大**\n",
    "\n",
    "\n",
    "* <font size=4 face=\"微软雅黑\"> 同样发现名字里的**称谓**对是否获救也有影响\n",
    "\n",
    "\n",
    "* <font size=4  face=\"微软雅黑\"> **创建** *NameLength* 和 *Name_Title* 新列\n",
    "\n",
    "\n",
    "* <font size=4 face=\"微软雅黑\"> 由于这些属性之间不存在大小关系，因此最后进行**独热编码**，每个可能的属性取值设一列\n",
    "\n"
   ]
  },
  {
   "cell_type": "code",
   "execution_count": 4,
   "metadata": {
    "_cell_guid": "0a0b8e5d-c918-4f3f-a63c-24edec7fe0aa",
    "_uuid": "31855edb0de916ffce20c0b760af3b82fb85b912"
   },
   "outputs": [
    {
     "name": "stdout",
     "output_type": "stream",
     "text": [
      "NameLength\n",
      "(11.999, 19.0]    0.220588\n",
      "(19.0, 23.0]      0.301282\n",
      "(23.0, 27.0]      0.319797\n",
      "(27.0, 32.0]      0.442424\n",
      "(32.0, 82.0]      0.674556\n",
      "Name: Survived, dtype: float64\n",
      "Name_Title\n",
      "Capt.        0.000000\n",
      "Col.         0.500000\n",
      "Don.         0.000000\n",
      "Dr.          0.428571\n",
      "Jonkheer.    0.000000\n",
      "Lady.        1.000000\n",
      "Major.       0.500000\n",
      "Master.      0.575000\n",
      "Miss.        0.697802\n",
      "Mlle.        1.000000\n",
      "Mme.         1.000000\n",
      "Mr.          0.156673\n",
      "Mrs.         0.792000\n",
      "Ms.          1.000000\n",
      "Rev.         0.000000\n",
      "Sir.         1.000000\n",
      "the          1.000000\n",
      "Name: Survived, dtype: float64\n"
     ]
    }
   ],
   "source": [
    "\n",
    "def names(train, test):\n",
    "    for i in [train, test]:\n",
    "       i['NameLength'] = i['Name'].apply(lambda x: len(x))\n",
    "       i['Name_Title'] = i['Name'].apply(lambda x: x.split(',')[1]).apply(lambda x: x.split()[0])\n",
    "    print(train['Survived'].groupby(pd.qcut(train['NameLength'], 5)).mean())\n",
    "    print(train['Survived'].groupby(train['Name_Title']).mean())\n",
    "    good_cols = ['Name_Title' + '_' + i for i in train['Name_Title'].unique() if i in test['Name_Title'].unique()]\n",
    "    train = pd.concat((train, pd.get_dummies(train['Name_Title'], prefix='Name_Title')[good_cols]), axis=1)\n",
    "    test = pd.concat((test, pd.get_dummies(test['Name_Title'], prefix='Name_Title')[good_cols]), axis=1)\n",
    "    del train['Name_Title']\n",
    "    del test['Name_Title']\n",
    "    return train, test\n",
    "train_data, test_data = names(train_data, test_data)\n"
   ]
  },
  {
   "cell_type": "markdown",
   "metadata": {
    "_uuid": "06d3b48107c17cb575c32e657d977e505d21ab51"
   },
   "source": [
    "## *PassengerId & Name & Ticket*\n",
    "\n",
    "* <font size=4 face=\"微软雅黑\"> 丢弃无用的 *PassengerId*  *Name*  *Ticket* 列 </font>\n",
    "\n",
    "\n",
    "## *Sex*\n",
    "\n",
    "* <font size=4 face=\"微软雅黑\"> 把 *Sex* 中字符串变成整数，male设为1，female设为0 </font>\n",
    "\n",
    "\n",
    "## *Cabin*\n",
    "\n",
    "* <font size=4 face=\"微软雅黑\">  *Cabin* 中缺失值太多，下图中发现该属性是否缺失对生还率影响较大，因此有值则填1，没值则填0 </font>"
   ]
  },
  {
   "cell_type": "code",
   "execution_count": 5,
   "metadata": {
    "_cell_guid": "acc3f1c4-86a3-4d94-a741-0b6a2c809dc8",
    "_uuid": "6f1cd1a9e8dab4e8b9be97e70959797670005976"
   },
   "outputs": [
    {
     "name": "stdout",
     "output_type": "stream",
     "text": [
      "['male' 'female']\n"
     ]
    },
    {
     "data": {
      "text/plain": [
       "<matplotlib.axes._subplots.AxesSubplot at 0x1dbc8383780>"
      ]
     },
     "execution_count": 5,
     "metadata": {},
     "output_type": "execute_result"
    },
    {
     "data": {
      "image/png": "[encoded data removed]",
      "text/plain": [
       "<matplotlib.figure.Figure at 0x1dbc837b668>"
      ]
     },
     "metadata": {},
     "output_type": "display_data"
    }
   ],
   "source": [
    "# 丢弃无用的 PassengerId Name Ticket列\n",
    "train_data = train_data.drop([\"PassengerId\", \"Name\", \"Ticket\"], axis=1)\n",
    "test_data = test_data.drop([\"PassengerId\", \"Name\", \"Ticket\"], axis=1)\n",
    "\n",
    "# 对Sex进行处理，male为1，female为0\n",
    "print(train_data[\"Sex\"].unique())\n",
    "train_data.loc[train_data[\"Sex\"] == 'male', \"Sex\"] = 0  # 左边选行，右边选列\n",
    "train_data.loc[train_data[\"Sex\"] == 'female', \"Sex\"] = 1\n",
    "test_data.loc[test_data[\"Sex\"] == 'male', \"Sex\"] = 0\n",
    "test_data.loc[test_data[\"Sex\"] == 'female', \"Sex\"] = 1\n",
    "\n",
    "# 对Cabin进行处理，缺失值太多，有值则填1，没值则填0 \n",
    "train_data.loc[train_data['Cabin'].notnull(), 'Cabin'] = 1\n",
    "train_data.loc[train_data['Cabin'].isnull(), 'Cabin'] = 0\n",
    "test_data.loc[test_data['Cabin'].notnull(), 'Cabin'] = 1\n",
    "test_data.loc[test_data['Cabin'].isnull(), 'Cabin'] = 0\n",
    "sns.countplot(train_data['Cabin'], hue=train_data['Survived'])"
   ]
  },
  {
   "cell_type": "markdown",
   "metadata": {
    "_uuid": "8e985a48f5b3e2252e68de1e44b41a473f9a3600"
   },
   "source": [
    "# *Embarked*\n",
    "* <font size=4 face=\"微软雅黑\"> *Embarked* 为乘客登船城市，按理来说影响不大，但是从统计却看出，从C城登船的人生还率明显比其他城市高，猜测可能那里贵族比较多，因此也**把*Embarked* 中字符转为数字**\n",
    "\n",
    "\n",
    "* <font size=4 face=\"微软雅黑\"> 对于缺失值，*Embarked* 中只有一个，直接填**众数**S"
   ]
  },
  {
   "cell_type": "code",
   "execution_count": 6,
   "metadata": {
    "_cell_guid": "7528db8d-f34a-4e8a-9178-700bc60aaa48",
    "_uuid": "4bcad0fef0c8ec4764f03884c56f44e34afce4f0"
   },
   "outputs": [
    {
     "name": "stdout",
     "output_type": "stream",
     "text": [
      "Embarked\n",
      "C    0.553571\n",
      "Q    0.389610\n",
      "S    0.336957\n",
      "Name: Survived, dtype: float64\n",
      "['S' 'C' 'Q' nan]\n"
     ]
    },
    {
     "data": {
      "image/png": "[encoded data removed]",
      "text/plain": [
       "<matplotlib.figure.Figure at 0x1dbb6372160>"
      ]
     },
     "metadata": {},
     "output_type": "display_data"
    }
   ],
   "source": [
    "# 对Embarked进行处理，缺失值直接填S\n",
    "print(train_data['Survived'].groupby(train_data['Embarked']).mean())\n",
    "sns.countplot(train_data['Embarked'], hue=train_data['Survived'])\n",
    "print(train_data[\"Embarked\"].unique())\n",
    "train_data[\"Embarked\"] = train_data[\"Embarked\"].fillna('S')\n",
    "train_data.loc[train_data[\"Embarked\"] == 'S', \"Embarked\"] = 0\n",
    "train_data.loc[train_data[\"Embarked\"] == 'C', \"Embarked\"] = 1\n",
    "train_data.loc[train_data[\"Embarked\"] == 'Q', \"Embarked\"] = 2\n",
    "test_data[\"Embarked\"] = test_data[\"Embarked\"].fillna('S')\n",
    "test_data.loc[test_data[\"Embarked\"] == 'S', \"Embarked\"] = 0\n",
    "test_data.loc[test_data[\"Embarked\"] == 'C', \"Embarked\"] = 1\n",
    "test_data.loc[test_data[\"Embarked\"] == 'Q', \"Embarked\"] = 2"
   ]
  },
  {
   "cell_type": "markdown",
   "metadata": {
    "_uuid": "78fd9a3253df55f66734d692bc0c22de672b021c"
   },
   "source": [
    "\n",
    "# *Age*\n",
    "* <font size=4 face=\"微软雅黑\"> 从下面的统计数据可以看出，*Age* 为空值的177个乘客，平均生还率比非空值的乘客小10%\n",
    "    \n",
    "\n",
    "* <font size=4 face=\"微软雅黑\"> 因此**设一列 *Age_null* **来表示这个特性.\n",
    "    "
   ]
  },
  {
   "cell_type": "code",
   "execution_count": 7,
   "metadata": {
    "_uuid": "a31a40fefa2b0bc1a315a561ecb65be9315abbbb"
   },
   "outputs": [
    {
     "data": {
      "text/plain": [
       "Age\n",
       "False    0.406162\n",
       "True     0.293785\n",
       "Name: Survived, dtype: float64"
      ]
     },
     "execution_count": 7,
     "metadata": {},
     "output_type": "execute_result"
    }
   ],
   "source": [
    "train_data['Survived'].groupby(train_data['Age'].isnull()).mean()"
   ]
  },
  {
   "cell_type": "markdown",
   "metadata": {
    "_uuid": "196924a25b76cff5175e78785217504c6cee21c1"
   },
   "source": [
    "# *Age*\n",
    "*  <font size=4 face=\"微软雅黑\"> 对 *Age* 缺失值的填充，由于缺失值不太多，因此**使用随机森林回归算法进行预测**，填充空值</font>"
   ]
  },
  {
   "cell_type": "code",
   "execution_count": 8,
   "metadata": {
    "_cell_guid": "12e68cad-6bd7-479d-bc61-7a347d79af99",
    "_uuid": "8cce6976bbeea19578e272f116e0e7489dac1431"
   },
   "outputs": [],
   "source": [
    "# 对Age缺失值的填充，由于缺失值不太多，因此使用随机森林回归算法进行预测\n",
    "def setMissingAges(df):\n",
    "    age_df = df[['Age', 'Parch', 'SibSp', 'Pclass', 'Cabin']]\n",
    "    knownAge = age_df[df.Age.notnull()]\n",
    "    unknownAge = age_df[df.Age.isnull()]\n",
    "    y = knownAge.values[:, 0]\n",
    "    X = knownAge.values[:, 1:]\n",
    "    rfr = RandomForestRegressor(n_estimators=2000, n_jobs=-1)\n",
    "    # train the regressor\n",
    "    rfr.fit(X, y)\n",
    "    predictedAges = rfr.predict(unknownAge.values[:, 1:])\n",
    "    df.loc[df.Age.isnull(), \"Age\"] = predictedAges\n",
    "    return df\n",
    "\n",
    "test_data.loc[test_data['Fare'].isnull(), 'Fare'] = train_data['Fare'].mean()\n",
    "\n",
    "train_data['Survived'].groupby(train_data['Age'].isnull()).mean()\n",
    "train_data['Age_Null_Flag'] = train_data['Age'].apply(lambda x: 1 if pd.isnull(x) else 0)\n",
    "test_data['Age_Null_Flag'] = test_data['Age'].apply(lambda x: 1 if pd.isnull(x) else 0)\n",
    "\n",
    "train_data = setMissingAges(train_data)\n",
    "test_data = setMissingAges(test_data)"
   ]
  },
  {
   "cell_type": "markdown",
   "metadata": {
    "_uuid": "a49f83227693952e21100fec9961b6c7e3097222"
   },
   "source": [
    "# *SibSp & Parch*\n",
    "* <font size=4 face=\"微软雅黑\"> 分析发现*SibSp* 和*Parch* 变量对是否获救影响不大，因此将两个弱变量加起来合并成一个** *Fam_Size* **的强变量"
   ]
  },
  {
   "cell_type": "code",
   "execution_count": 9,
   "metadata": {
    "_cell_guid": "71f3d659-64d4-4e5b-8408-b2cab654ec42",
    "_uuid": "795efe1f9e0a28025c9ff0bf160e301e6ec5b1a8",
    "scrolled": true
   },
   "outputs": [
    {
     "data": {
      "text/html": [
       "<div>\n",
       "<style scoped>\n",
       "    .dataframe tbody tr th:only-of-type {\n",
       "        vertical-align: middle;\n",
       "    }\n",
       "\n",
       "    .dataframe tbody tr th {\n",
       "        vertical-align: top;\n",
       "    }\n",
       "\n",
       "    .dataframe thead th {\n",
       "        text-align: right;\n",
       "    }\n",
       "</style>\n",
       "<table border=\"1\" class=\"dataframe\">\n",
       "  <thead>\n",
       "    <tr style=\"text-align: right;\">\n",
       "      <th></th>\n",
       "      <th>Survived</th>\n",
       "      <th>Pclass</th>\n",
       "      <th>Sex</th>\n",
       "      <th>Age</th>\n",
       "      <th>Fare</th>\n",
       "      <th>Cabin</th>\n",
       "      <th>Embarked</th>\n",
       "      <th>NameLength</th>\n",
       "      <th>Name_Title_Mr.</th>\n",
       "      <th>Name_Title_Mrs.</th>\n",
       "      <th>Name_Title_Miss.</th>\n",
       "      <th>Name_Title_Master.</th>\n",
       "      <th>Name_Title_Rev.</th>\n",
       "      <th>Name_Title_Dr.</th>\n",
       "      <th>Name_Title_Ms.</th>\n",
       "      <th>Name_Title_Col.</th>\n",
       "      <th>Age_Null_Flag</th>\n",
       "      <th>Fam_Size</th>\n",
       "    </tr>\n",
       "  </thead>\n",
       "  <tbody>\n",
       "    <tr>\n",
       "      <th>0</th>\n",
       "      <td>0</td>\n",
       "      <td>3</td>\n",
       "      <td>0</td>\n",
       "      <td>22.0</td>\n",
       "      <td>7.2500</td>\n",
       "      <td>0</td>\n",
       "      <td>0</td>\n",
       "      <td>23</td>\n",
       "      <td>1</td>\n",
       "      <td>0</td>\n",
       "      <td>0</td>\n",
       "      <td>0</td>\n",
       "      <td>0</td>\n",
       "      <td>0</td>\n",
       "      <td>0</td>\n",
       "      <td>0</td>\n",
       "      <td>0</td>\n",
       "      <td>1</td>\n",
       "    </tr>\n",
       "    <tr>\n",
       "      <th>1</th>\n",
       "      <td>1</td>\n",
       "      <td>1</td>\n",
       "      <td>1</td>\n",
       "      <td>38.0</td>\n",
       "      <td>71.2833</td>\n",
       "      <td>1</td>\n",
       "      <td>1</td>\n",
       "      <td>51</td>\n",
       "      <td>0</td>\n",
       "      <td>1</td>\n",
       "      <td>0</td>\n",
       "      <td>0</td>\n",
       "      <td>0</td>\n",
       "      <td>0</td>\n",
       "      <td>0</td>\n",
       "      <td>0</td>\n",
       "      <td>0</td>\n",
       "      <td>1</td>\n",
       "    </tr>\n",
       "    <tr>\n",
       "      <th>2</th>\n",
       "      <td>1</td>\n",
       "      <td>3</td>\n",
       "      <td>1</td>\n",
       "      <td>26.0</td>\n",
       "      <td>7.9250</td>\n",
       "      <td>0</td>\n",
       "      <td>0</td>\n",
       "      <td>22</td>\n",
       "      <td>0</td>\n",
       "      <td>0</td>\n",
       "      <td>1</td>\n",
       "      <td>0</td>\n",
       "      <td>0</td>\n",
       "      <td>0</td>\n",
       "      <td>0</td>\n",
       "      <td>0</td>\n",
       "      <td>0</td>\n",
       "      <td>0</td>\n",
       "    </tr>\n",
       "    <tr>\n",
       "      <th>3</th>\n",
       "      <td>1</td>\n",
       "      <td>1</td>\n",
       "      <td>1</td>\n",
       "      <td>35.0</td>\n",
       "      <td>53.1000</td>\n",
       "      <td>1</td>\n",
       "      <td>0</td>\n",
       "      <td>44</td>\n",
       "      <td>0</td>\n",
       "      <td>1</td>\n",
       "      <td>0</td>\n",
       "      <td>0</td>\n",
       "      <td>0</td>\n",
       "      <td>0</td>\n",
       "      <td>0</td>\n",
       "      <td>0</td>\n",
       "      <td>0</td>\n",
       "      <td>1</td>\n",
       "    </tr>\n",
       "    <tr>\n",
       "      <th>4</th>\n",
       "      <td>0</td>\n",
       "      <td>3</td>\n",
       "      <td>0</td>\n",
       "      <td>35.0</td>\n",
       "      <td>8.0500</td>\n",
       "      <td>0</td>\n",
       "      <td>0</td>\n",
       "      <td>24</td>\n",
       "      <td>1</td>\n",
       "      <td>0</td>\n",
       "      <td>0</td>\n",
       "      <td>0</td>\n",
       "      <td>0</td>\n",
       "      <td>0</td>\n",
       "      <td>0</td>\n",
       "      <td>0</td>\n",
       "      <td>0</td>\n",
       "      <td>0</td>\n",
       "    </tr>\n",
       "  </tbody>\n",
       "</table>\n",
       "</div>"
      ],
      "text/plain": [
       "   Survived  Pclass  Sex   Age     Fare  Cabin  Embarked  NameLength  \\\n",
       "0         0       3    0  22.0   7.2500      0         0          23   \n",
       "1         1       1    1  38.0  71.2833      1         1          51   \n",
       "2         1       3    1  26.0   7.9250      0         0          22   \n",
       "3         1       1    1  35.0  53.1000      1         0          44   \n",
       "4         0       3    0  35.0   8.0500      0         0          24   \n",
       "\n",
       "   Name_Title_Mr.  Name_Title_Mrs.  Name_Title_Miss.  Name_Title_Master.  \\\n",
       "0               1                0                 0                   0   \n",
       "1               0                1                 0                   0   \n",
       "2               0                0                 1                   0   \n",
       "3               0                1                 0                   0   \n",
       "4               1                0                 0                   0   \n",
       "\n",
       "   Name_Title_Rev.  Name_Title_Dr.  Name_Title_Ms.  Name_Title_Col.  \\\n",
       "0                0               0               0                0   \n",
       "1                0               0               0                0   \n",
       "2                0               0               0                0   \n",
       "3                0               0               0                0   \n",
       "4                0               0               0                0   \n",
       "\n",
       "   Age_Null_Flag  Fam_Size  \n",
       "0              0         1  \n",
       "1              0         1  \n",
       "2              0         0  \n",
       "3              0         1  \n",
       "4              0         0  "
      ]
     },
     "execution_count": 9,
     "metadata": {},
     "output_type": "execute_result"
    }
   ],
   "source": [
    "def fam_size(train, test):\n",
    "    for i in [train, test]:\n",
    "        i['Fam_Size'] = np.where((i['SibSp'] + i['Parch']) == 0, 0,\n",
    "                                 np.where((i['SibSp'] + i['Parch']) <= 3, 1, 2))\n",
    "        del i['SibSp']\n",
    "        del i['Parch']\n",
    "    return train, test\n",
    "train_data, test_data = fam_size(train_data, test_data)\n",
    "train_data.head()"
   ]
  },
  {
   "cell_type": "markdown",
   "metadata": {
    "_cell_guid": "30d909f9-0cea-4394-a892-6bcc89848e1d",
    "_uuid": "a35faaacb19ca7c47b3e88b031d6d852db76258a"
   },
   "source": [
    "# <center>CART决策树<center>"
   ]
  },
  {
   "cell_type": "markdown",
   "metadata": {
    "_cell_guid": "4aed36a3-7918-492d-b005-406e431e0545",
    "_uuid": "1466a238bc672be77ea83c6d6895ab2d0cee7898"
   },
   "source": [
    "# 基尼指数"
   ]
  },
  {
   "cell_type": "markdown",
   "metadata": {
    "_cell_guid": "2388915b-112e-40e9-82f0-d3830f1f062a",
    "_uuid": "8b936d232627b422035c3a84035eea96390848f0"
   },
   "source": [
    "<font size = 4 face = \"微软雅黑\">CART决策树使用**基尼指数**来选择划分属性。基尼指数反映了从数据集D中随机抽取两个样本，其类别标记不一致的概率。\n",
    "基尼指数的计算公式如下："
   ]
  },
  {
   "cell_type": "markdown",
   "metadata": {
    "_cell_guid": "98ab4f03-b971-42b1-bd2c-bcf7857f7b22",
    "_uuid": "b2c5d55d1e52e1eec3b9c7be1bdeded8d1a9c2cc"
   },
   "source": [
    "<font size = 4>$$ Gini(D)=\\sum_{k=1}^{n}\\sum_{k' \\neq k}{p_k p_k'}=1-\\sum_{k=1}^{n}{p_k}^{2} $$"
   ]
  },
  {
   "cell_type": "code",
   "execution_count": 10,
   "metadata": {
    "_cell_guid": "5e097d7b-7040-4fd7-a11f-44e2c69c8987",
    "_uuid": "f32951b6ee502f8d44b88cc37bab18b82bbf343f"
   },
   "outputs": [],
   "source": [
    "def gini(y_train):\n",
    "    cate_cnt = {}\n",
    "    for item in y_train:\n",
    "        if item not in cate_cnt.keys():\n",
    "            cate_cnt[item] = 1.0\n",
    "        else:\n",
    "            cate_cnt[item] += 1\n",
    "    sum_cnt = y_train.shape[0]\n",
    "    result = 1.0\n",
    "    for key, value in cate_cnt.items():\n",
    "        p = value / sum_cnt\n",
    "        result -= p * p\n",
    "    return result"
   ]
  },
  {
   "cell_type": "markdown",
   "metadata": {
    "_cell_guid": "f85d8d62-1821-4953-84ef-536b0b80f403",
    "_uuid": "6b25da6edf6260d0b28647d8d69a108a9fc405dd"
   },
   "source": [
    "# 二叉划分"
   ]
  },
  {
   "cell_type": "markdown",
   "metadata": {
    "_cell_guid": "32b216ca-200f-47a6-93b2-d23e5375e7ea",
    "_uuid": "8feb7941c738d1c7da9a0a921d5f723f67b75788"
   },
   "source": [
    "<font size = 4 face = \"微软雅黑\">根据CART决策树的规则，所有的结点都是**二叉**的。对于当前的每一个属性，都要考察样本在该属性上的**所有可能取值**，对于每个值，都将样本分为在该属性上取值**是该值**的和**不是该值**的，并计算该划分的*基尼指数*。选出基尼指数最小的取值即为该属性的基尼指数，对应的划分即为该属性的最佳划分。  \n",
    "对于某个属性a来说，属性a的基尼指数定义为："
   ]
  },
  {
   "cell_type": "markdown",
   "metadata": {
    "_cell_guid": "c0c45f19-baa9-4c33-96af-77df0e44fd93",
    "_uuid": "2fc11e6edcf40b5221e9009293a5495d18176ea9"
   },
   "source": [
    "<font size = 4>$$ Gini\\_index(D, a)=min\\sum_{v=1}^{2}\\frac{\\left | D^{i_v} \\right |}{\\left | D \\right |} Gini(D^{v})\\ \\ i=1,2,3...n $$"
   ]
  },
  {
   "cell_type": "markdown",
   "metadata": {
    "_cell_guid": "95819ed5-fe7e-400a-8467-6d99a1a348d3",
    "_uuid": "c70692798a2fcecb12c397b7cad7234bf910ccca"
   },
   "source": [
    "<font size = 4 face = \"微软雅黑\">在选择属性时，我们选择能使得基尼指数**最小**的属性进行划分。"
   ]
  },
  {
   "cell_type": "code",
   "execution_count": 11,
   "metadata": {
    "_cell_guid": "d92f2f73-adc0-40d3-865a-ca469d93f9aa",
    "_uuid": "e003d5a5618c5fc41acbbfde0dd53abfe5564e97"
   },
   "outputs": [],
   "source": [
    "def chooseCutpoint(x_train, y_train, i):\n",
    "    value_list = [row[i] for index, row in x_train.iterrows()]\n",
    "\n",
    "    value_list = set(value_list)\n",
    "    best_gini_feature = 100\n",
    "    gini_sum_feature = 0.0\n",
    "    cutpoint = 0\n",
    "\n",
    "    for value in value_list:\n",
    "        gini_sum_feature = 0.0\n",
    "        x, y = splitDataSet(x_train, y_train, i, value, True)\n",
    "        g = gini(y)  # 左子节点的基尼系数\n",
    "        gini_sum_feature += g * float(x.shape[0]) / x_train.shape[0]\n",
    "        x, y = splitDataSet(x_train, y_train, i, value, False)\n",
    "        g = gini(y)  # 右子节点的基尼系数\n",
    "        gini_sum_feature += g * float(x.shape[0]) / x_train.shape[0]\n",
    "        # 计算出按当前value作为切分点的时候，基尼系数\n",
    "        if gini_sum_feature < best_gini_feature:\n",
    "            best_gini_feature = gini_sum_feature\n",
    "            cutpoint = value\n",
    "\n",
    "    return best_gini_feature, cutpoint\n",
    "\n",
    "\n",
    "def splitDataSet(x_train, y_train, i, value, flag):  # flag用于区分，是切分出属性值==value还是属性值!=value的子集\n",
    "    temp = pd.concat([x_train, y_train], axis=1)\n",
    "    if flag:\n",
    "        temp = temp[temp[x_train.columns[i]] == value]\n",
    "    else:\n",
    "        temp = temp[temp[x_train.columns[i]] != value]\n",
    "    temp = temp.drop(x_train.columns[i], axis=1)\n",
    "    name = temp.columns[temp.shape[1] - 1]  # 获取最后一列的名字\n",
    "    retx = temp.drop(name, axis=1)\n",
    "    rety = temp[name]\n",
    "    return retx, rety"
   ]
  },
  {
   "cell_type": "markdown",
   "metadata": {
    "_cell_guid": "b5127847-1525-4db1-a08e-6cca67775543",
    "_uuid": "2824ff924e50bb8daae3b853ac4ea4e6649923a5"
   },
   "source": [
    "<font size = 4 face = \"微软雅黑\">还有一种常用的方法是，在计算划分的基尼指数时，对于属性的所有的可能取值，从小到大在**相邻两点**间取一个**平均值**，将样本按**小于等于该值**和**大于该值**的方法划分。该方法适用于属性值有大小关系的情况。"
   ]
  },
  {
   "cell_type": "code",
   "execution_count": 12,
   "metadata": {
    "_cell_guid": "13144263-20dc-4455-8a3c-a2712bd596ea",
    "_uuid": "3fd964cb3c0d4a193a8fe15633fd7884828717b1"
   },
   "outputs": [],
   "source": [
    "def chooseCutpointCont(x_train, y_train, i):\n",
    "    value_list = [row[i] for index, row in x_train.iterrows()]\n",
    "    value_list = set(value_list)\n",
    "    value_list = list(value_list)\n",
    "    value_list.sort()\n",
    "\n",
    "    best_gini_feature = 100\n",
    "    gini_sum_feature = 0.0\n",
    "    cutpoint = 0\n",
    "\n",
    "    for k in range(len(value_list) - 1):\n",
    "        value = (float(value_list[k]) + value_list[k + 1]) / 2\n",
    "        # for value in value_list:\n",
    "        gini_sum_feature = 0.0\n",
    "        x, y = splitDataSet(x_train, y_train, i, value, True)\n",
    "        g = gini(y)  # 左子节点的基尼系数\n",
    "        gini_sum_feature += g * float(x.shape[0]) / x_train.shape[0]\n",
    "        x, y = splitDataSet(x_train, y_train, i, value, False)\n",
    "        g = gini(y)  # 右子节点的基尼系数\n",
    "        gini_sum_feature += g * float(x.shape[0]) / x_train.shape[0]\n",
    "        # 计算出按当前value作为切分点的时候，基尼系数\n",
    "        if gini_sum_feature < best_gini_feature:\n",
    "            best_gini_feature = gini_sum_feature\n",
    "            cutpoint = value\n",
    "\n",
    "    return best_gini_feature, cutpoint\n",
    "\n",
    "\n",
    "def splitDataSetCont(x_train, y_train, i, value, flag):  # flag用于区分，是切分出属性值<=value还是属性值>value的子集\n",
    "    temp = pd.concat([x_train, y_train], axis=1)\n",
    "    if flag:\n",
    "        temp = temp[temp[x_train.columns[i]] <= value]\n",
    "    else:\n",
    "        temp = temp[temp[x_train.columns[i]] > value]\n",
    "    temp = temp.drop(x_train.columns[i], axis=1)\n",
    "    name = temp.columns[temp.shape[1] - 1]  # 获取最后一列的名字\n",
    "    retx = temp.drop(name, axis=1)\n",
    "    rety = temp[name]\n",
    "    return retx, rety"
   ]
  },
  {
   "cell_type": "markdown",
   "metadata": {
    "_cell_guid": "7ec6ab4c-bca1-4338-953f-bdda9f764633",
    "_uuid": "06a6f64d98380bda88bcebe36897075249f37f8b"
   },
   "source": [
    "# 随机选择属性"
   ]
  },
  {
   "cell_type": "markdown",
   "metadata": {
    "_cell_guid": "c65cc058-2e2a-4153-9d34-39302b35e71e",
    "_uuid": "21f782a1d723b9133a6b7fb6af753d3ca60900a3"
   },
   "source": [
    "<font size = 4 face = \"微软雅黑\">如果选择了 *random* 参数，则每次选择属性的时候，都会先随机剔除掉（最多）一半的属性，从剩下的属性中选出最佳的属性。"
   ]
  },
  {
   "cell_type": "code",
   "execution_count": 13,
   "metadata": {
    "_cell_guid": "efafaecf-91f6-4141-a633-933bce1b9784",
    "_uuid": "139f8b18bc2adfcec8407571c6c72cf811b9b693"
   },
   "outputs": [],
   "source": [
    "def chooseFeature(x_train, y_train, splitter):\n",
    "    feature_cnt = x_train.shape[1]\n",
    "    best_gini = 100  # 足够大了\n",
    "    best_loc = -1\n",
    "    best_cut = -1\n",
    "    ran = set(range(feature_cnt))\n",
    "    if splitter == \"random\":  # 随机剔除掉最多一半的属性\n",
    "        arr = np.random.randint(0, feature_cnt, int(feature_cnt / 2))\n",
    "        arr = set(arr)\n",
    "        ran = ran - arr\n",
    "\n",
    "    for i in ran:  # 对于选定的属性\n",
    "        gini_sum, cutpoint = chooseCutpoint(x_train, y_train, i)  # 计算每个属性的最佳切分点以及最佳切分情况下的基尼系数\n",
    "        if gini_sum < best_gini:\n",
    "            best_gini = gini_sum\n",
    "            best_loc = i\n",
    "            best_cut = cutpoint\n",
    "    return best_loc, best_cut"
   ]
  },
  {
   "cell_type": "markdown",
   "metadata": {
    "_cell_guid": "a7fe2488-ba2a-45f4-8858-2d1a6b0d2e6c",
    "_uuid": "2cbc7496846bf4403137c06ae018d5fd40d5312a"
   },
   "source": [
    "# <center>生成决策树</center>"
   ]
  },
  {
   "cell_type": "markdown",
   "metadata": {
    "_cell_guid": "7e8123a0-a4a1-4d68-a947-0cb263014a50",
    "_uuid": "bca43544bd6ed83fa5f5ebcd36bd855e61257d2b"
   },
   "source": [
    "# 限制最小可划分样本数\n",
    "<font size = 4 face = \"微软雅黑\">*min_samples_split*参数用于设定当前结点的最小划分样本数。只有在结点中的样本个数大于*min_samples_split*参数时，该结点才会被继续划分成子结点，否则将直接使用**投票法**确定该结点的类别归属。"
   ]
  },
  {
   "cell_type": "markdown",
   "metadata": {
    "_cell_guid": "7a39690a-6798-4dcf-ab28-aebea1cd363e",
    "_uuid": "e2881238e0eefbff56d4e305f771184446aa68d7"
   },
   "source": [
    "# 限制最大深度\n",
    "<font size = 4 face = \"微软雅黑\">*max_depth*参数用于限制决策树的最大深度。当决策树的深度达到最大深度时，结点也将不再分裂，而是直接使用**投票法**确定该结点的类别归属。**限制最大深度有助于防止过拟合。**"
   ]
  },
  {
   "cell_type": "code",
   "execution_count": 14,
   "metadata": {
    "_cell_guid": "4a171e08-def5-4813-8103-dda637bcbc8a",
    "_uuid": "bcc947d69520926c57faca6a3f9d92b39ace2dd6"
   },
   "outputs": [],
   "source": [
    "def treeGen(x_train, y_train, values, cur_depth, splitter=\"best\", max_depth=None, min_samples_split=2):\n",
    "    attributes = x_train.columns\n",
    "    cur = Node()\n",
    "    # 类别完全相同，停止划分\n",
    "    if y_train.value_counts().shape[0] == 1:\n",
    "        cur.cate = y_train.iloc[0]\n",
    "        cur.cnt = 0\n",
    "        return cur\n",
    "\n",
    "    flag = True\n",
    "    for attr in attributes:\n",
    "        if x_train[attr].value_counts().shape[0] != 1:\n",
    "            flag = False\n",
    "            break\n",
    "    # 属性集为空或在所有属性上的值都相同或深度达到了最大深度\n",
    "    temp = set(attributes)\n",
    "    # print(len(temp))\n",
    "    if len(temp) == 0 or flag or (max_depth is not None and cur_depth >= max_depth):\n",
    "        cur.cate = vote(y_train)\n",
    "        cur.cnt = 0\n",
    "        return cur\n",
    "\n",
    "    # 找出最佳属性\n",
    "    best_loc, value = chooseFeature(x_train, y_train, splitter)\n",
    "    cur.attr = attributes[best_loc]\n",
    "    cur.attr_value = value\n",
    "\n",
    "    x, y = splitDataSet(x_train, y_train, best_loc, value, True)\n",
    "    if x.shape[0] <= min_samples_split:  # 如果样本数太少则不继续划分\n",
    "        child = Node()\n",
    "        child.cate = vote(y_train)\n",
    "        child.cnt = 0\n",
    "        cur.cnt += 1\n",
    "        cur.children[value] = child\n",
    "    else:\n",
    "        child = treeGen(x, y, values, cur_depth + 1, splitter, max_depth)\n",
    "        cur.cnt += 1\n",
    "        cur.children[value] = child\n",
    "\n",
    "    x, y = splitDataSet(x_train, y_train, best_loc, value, False)\n",
    "    if x.shape[0] <= min_samples_split:  # 如果样本数太少则不继续划分\n",
    "        child = Node()\n",
    "        child.cate = vote(y_train)\n",
    "        child.cnt = 0\n",
    "        cur.cnt += 1\n",
    "        cur.children[-1] = child\n",
    "    else:\n",
    "        child = treeGen(x, y, values, cur_depth + 1, splitter, max_depth)\n",
    "        cur.cnt += 1\n",
    "        cur.children[-1] = child\n",
    "\n",
    "    return cur"
   ]
  },
  {
   "cell_type": "markdown",
   "metadata": {
    "_cell_guid": "62130cbb-2e7c-4a07-91b1-4c49cc03c0e4",
    "_uuid": "63def6f2ceaef5cdda93f9db1abd32f16cc23ef0"
   },
   "source": [
    "# 投票法"
   ]
  },
  {
   "cell_type": "code",
   "execution_count": 15,
   "metadata": {
    "_cell_guid": "1b304c0c-d1ab-4997-b308-56915a30998a",
    "_uuid": "693e36462906529e76bc74fd2d61115827e2e35e"
   },
   "outputs": [],
   "source": [
    "def vote(y_train):\n",
    "    cate_cnt = {}\n",
    "    for item in y_train:\n",
    "        if item not in cate_cnt.keys():\n",
    "            cate_cnt[item] = 1.0\n",
    "        else:\n",
    "            cate_cnt[item] += 1\n",
    "    sorted_cnt = sorted(cate_cnt.items(), key=operator.itemgetter(1), reverse=True)\n",
    "    return sorted_cnt[0][0]"
   ]
  },
  {
   "cell_type": "markdown",
   "metadata": {
    "_cell_guid": "5c4eaee5-8f43-4a0c-8fa5-6dbe54369622",
    "_uuid": "27b4c68d44f24e7a056dcbf8dbbf917371739d3f"
   },
   "source": [
    "# 生成属性取值列表"
   ]
  },
  {
   "cell_type": "code",
   "execution_count": 16,
   "metadata": {
    "_cell_guid": "b046839b-90bd-43bf-8e82-de133f8ed837",
    "_uuid": "1ba6049ae40f0ad1d4a26de2d65373da09cc2ae6"
   },
   "outputs": [],
   "source": [
    "def valueListGen(x_train):\n",
    "    values = {}\n",
    "    for i in range(x_train.shape[1]):\n",
    "        value_list = [row[i] for index, row in x_train.iterrows()]\n",
    "        value_list = set(value_list)\n",
    "        values[x_train.columns[i]] = value_list\n",
    "    return values"
   ]
  },
  {
   "cell_type": "markdown",
   "metadata": {
    "_cell_guid": "dc84f13c-9ec6-4e06-9394-3a6b8127cd70",
    "_uuid": "fe48969a52d203902a6cea13a5f1db5d4403456f"
   },
   "source": [
    "# <center>数据结构定义</center>"
   ]
  },
  {
   "cell_type": "markdown",
   "metadata": {
    "_cell_guid": "46ad3a70-b2ac-4ff8-8183-b7564b8c9595",
    "_uuid": "dec6657259179d548ea87bff496ed3c956943a05"
   },
   "source": [
    "# 决策树结点"
   ]
  },
  {
   "cell_type": "code",
   "execution_count": 17,
   "metadata": {
    "_cell_guid": "108a4205-e78d-4508-91eb-296866042bb0",
    "_uuid": "02f24dbb3b553d87a44811134bd161570c68b3d7"
   },
   "outputs": [],
   "source": [
    "class Node(object):\n",
    "    cnt = 0\n",
    "    children = {}\n",
    "    attr = \"\"\n",
    "    attr_value = -1\n",
    "    cate = 2  # 2 is invalid\n",
    "\n",
    "    def __init__(self):\n",
    "        self.cnt = 0\n",
    "        self.children = {}\n",
    "        self.attr = \"\"\n",
    "        self.attr_value = -1\n",
    "        self.cate = 2"
   ]
  },
  {
   "cell_type": "markdown",
   "metadata": {
    "_cell_guid": "b5c5f8e6-494f-470d-9a0a-a2fdc8cb6b81",
    "_uuid": "312ecef6225d458bf30368045aebf37ee010cca2"
   },
   "source": [
    "# 决策树"
   ]
  },
  {
   "cell_type": "markdown",
   "metadata": {
    "_cell_guid": "192c45c7-b09f-4b7d-a8af-39a919a55229",
    "_uuid": "7c478f9fc85ec73900a83b85a41f107b5617e818"
   },
   "source": [
    "<font size = 4 face = \"微软雅黑\">决策树的基本操作接口有 *fit* 和 *predict* ，和sklearn中的决策树用法保持一致。"
   ]
  },
  {
   "cell_type": "code",
   "execution_count": 18,
   "metadata": {
    "_cell_guid": "66f1b534-0c2c-4cb7-99f7-4f1c628304a4",
    "_uuid": "e634f91c4ffe0634163038bcb73be30707afce4a"
   },
   "outputs": [],
   "source": [
    "class DecisionTree(object):\n",
    "    root = Node()\n",
    "    values = []\n",
    "\n",
    "    def __init__(self):\n",
    "        self.root = Node()\n",
    "        self.values = []\n",
    "\n",
    "    def fit(self, x_train, y_train, splitter=\"random\", max_depth=None, min_samples_split=2):\n",
    "        self.values = valueListGen(x_train)\n",
    "        self.root = treeGen(x_train, y_train, self.values, 0, splitter, max_depth, min_samples_split)\n",
    "\n",
    "    def predict_one(self, row):\n",
    "        cur = self.root\n",
    "        while cur.cnt != 0:\n",
    "            temp = row[cur.attr]\n",
    "            if temp == cur.attr_value:\n",
    "                cur = cur.children[temp]\n",
    "            else:\n",
    "                cur = cur.children[-1]\n",
    "        return cur.cate\n",
    "    \n",
    "    def predict(self, x_test):\n",
    "        result = []\n",
    "        for index, row in x_test.iterrows():\n",
    "            cate = self.predict_one(row)\n",
    "            result.append(cate)\n",
    "        return result    "
   ]
  },
  {
   "cell_type": "markdown",
   "metadata": {
    "_cell_guid": "2490e21e-87ff-410a-8d5a-e451f6c51809",
    "_uuid": "0218cfa42720af0f1cdb385b2e9374afd963cbb4"
   },
   "source": [
    "# **这里对决策树测试一下 各个参数说明 图表等等**"
   ]
  },
  {
   "cell_type": "markdown",
   "metadata": {
    "_cell_guid": "b2928ea1-e713-4d1a-a39d-e924c149c67e",
    "_uuid": "e071026fe1da6389732f5a6dc074e122139f65f6"
   },
   "source": [
    "# **以下是随机森林**"
   ]
  },
  {
   "cell_type": "code",
   "execution_count": 19,
   "metadata": {
    "_cell_guid": "259fef14-f31d-4246-ae0d-0ac0878b7ba1",
    "_uuid": "2c809a46c6f124371eae764d4f6dea54e85776e8"
   },
   "outputs": [],
   "source": [
    "def bootstrap(data_X, data_y):\n",
    "    \"\"\"不放回选取n个（n取样本个数）作为新样本返回\"\"\"\n",
    "    n = len(data_X)\n",
    "    idx = np.random.randint(n, size=n)  # 产生0到n-1的随机列表\n",
    "    sample_X = data_X.iloc[idx]\n",
    "    sample_y = data_y[idx]\n",
    "    return sample_X, sample_y\n",
    "\n",
    "\n",
    "class MyRandomForestClassifier:\n",
    "    def __init__(self, n_estimators=10, oob_score=False):\n",
    "        self.n_estimators = n_estimators  # integer 森林里树的个数\n",
    "        self.oob_score = oob_score  # bool 是否用袋外样本来估计精度\n",
    "        self.trees = []  # 决策树集合\n",
    "\n",
    "    def fit(self, X, y):\n",
    "        \"\"\"根据训练集(X, y)建随机森林\"\"\"\n",
    "        # 先随机有放回的抽样，构造得到n_estimators颗树\n",
    "        for i in range(self.n_estimators):\n",
    "            (subsampleX, subsample_y) = bootstrap(X, y)\n",
    "            # (subsampleX, subsample_y) = (X, y)\n",
    "            #tree = DecisionTree()\n",
    "            #tree.fit(subsampleX, subsample_y, splitter=\"random\", min_samples_split=10)\n",
    "            tree = DecisionTreeClassifier(splitter=\"random\", min_samples_split=10, min_samples_leaf=1,\n",
    "                                         max_features='auto')\n",
    "            tree.fit(subsampleX, subsample_y)\n",
    "            self.trees.append(tree)\n",
    "\n",
    "    def predict(self, X):\n",
    "        \"\"\"预测X属于哪类\"\"\"\n",
    "        cnt = np.zeros(len(X), dtype=np.int32)\n",
    "        for tree in self.trees:\n",
    "            y = np.array(tree.predict(X))\n",
    "            cnt = np.add(cnt, y)\n",
    "        i = 0\n",
    "        while i < len(cnt):\n",
    "            if cnt[i] > self.n_estimators // 2:\n",
    "                cnt[i] = 1\n",
    "            else:\n",
    "                cnt[i] = 0\n",
    "            i = i + 1\n",
    "        return cnt\n"
   ]
  },
  {
   "cell_type": "markdown",
   "metadata": {
    "_cell_guid": "9b77c877-e773-499b-b5db-c46f306b14c4",
    "_uuid": "bf49fa46c73b160e74b294027755516b4eda5cb0"
   },
   "source": [
    "# **以下用随机森林进行预测**"
   ]
  },
  {
   "cell_type": "code",
   "execution_count": 20,
   "metadata": {
    "_cell_guid": "012d088e-5709-43f4-b597-b00845e1998a",
    "_uuid": "2bc6c2fc0ef2e8d60d8e5f830c52cd48ec2eb829"
   },
   "outputs": [],
   "source": [
    "X_train = train_data.drop(\"Survived\", axis=1)\n",
    "Y_train = train_data[\"Survived\"]\n",
    "\n",
    "random_forest = MyRandomForestClassifier(n_estimators=800)\n",
    "random_forest.fit(X_train, Y_train)\n",
    "Y_pred = random_forest.predict(test_data)\n",
    "\n",
    "submission = pd.DataFrame({\n",
    "        \"PassengerId\": test_Pid,#test_data[\"PassengerId\"],\n",
    "        \"Survived\": Y_pred\n",
    "    })\n",
    "submission.to_csv('titanic.csv', index=False)"
   ]
  },
  {
   "cell_type": "markdown",
   "metadata": {
    "_cell_guid": "a4c94d4a-e677-40e7-8524-dc46c3ba59a1",
    "_uuid": "3cdc16cf10f0c320c85722fef1b2864f7db7f282"
   },
   "source": []
  },
  {
   "cell_type": "markdown",
   "metadata": {
    "_cell_guid": "327b93be-c0bc-4930-8a64-3fb352f8f1f0",
    "_uuid": "a5f1c5a009638dd7a47f54f1e2fb4cd47c88c552"
   },
   "source": []
  }
 ],
 "metadata": {
  "kernelspec": {
   "display_name": "Python 3",
   "language": "python",
   "name": "python3"
  },
  "language_info": {
   "codemirror_mode": {
    "name": "ipython",
    "version": 3
   },
   "file_extension": ".py",
   "mimetype": "text/x-python",
   "name": "python",
   "nbconvert_exporter": "python",
   "pygments_lexer": "ipython3",
   "version": "3.6.2"
  }
 },
 "nbformat": 4,
 "nbformat_minor": 1
}
